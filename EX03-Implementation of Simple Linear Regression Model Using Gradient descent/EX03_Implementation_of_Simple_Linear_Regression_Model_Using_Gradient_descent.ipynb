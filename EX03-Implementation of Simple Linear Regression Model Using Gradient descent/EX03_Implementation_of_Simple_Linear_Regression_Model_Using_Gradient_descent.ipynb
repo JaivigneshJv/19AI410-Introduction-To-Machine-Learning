{
  "nbformat": 4,
  "nbformat_minor": 0,
  "metadata": {
    "colab": {
      "provenance": []
    },
    "kernelspec": {
      "name": "python3",
      "display_name": "Python 3"
    },
    "language_info": {
      "name": "python"
    }
  },
  "cells": [
    {
      "cell_type": "code",
      "source": [
        "import numpy as np\n",
        "import matplotlib.pyplot as plt\n",
        "import pandas as pd"
      ],
      "metadata": {
        "id": "7hbI0YaMlMF6"
      },
      "execution_count": 22,
      "outputs": []
    },
    {
      "cell_type": "code",
      "source": [
        "data = pd.read_csv(\"/content/ex1.csv\")\n",
        "data"
      ],
      "metadata": {
        "colab": {
          "base_uri": "https://localhost:8080/",
          "height": 424
        },
        "id": "i7-6lm_vmCxk",
        "outputId": "e5022a32-06e0-4d10-8f7e-2afd436dcaed"
      },
      "execution_count": 23,
      "outputs": [
        {
          "output_type": "execute_result",
          "data": {
            "text/plain": [
              "          a         b\n",
              "0    6.1101  17.59200\n",
              "1    5.5277   9.13020\n",
              "2    8.5186  13.66200\n",
              "3    7.0032  11.85400\n",
              "4    5.8598   6.82330\n",
              "..      ...       ...\n",
              "92   5.8707   7.20290\n",
              "93   5.3054   1.98690\n",
              "94   8.2934   0.14454\n",
              "95  13.3940   9.05510\n",
              "96   5.4369   0.61705\n",
              "\n",
              "[97 rows x 2 columns]"
            ],
            "text/html": [
              "\n",
              "  <div id=\"df-0daf1ae0-7c73-44ca-86b1-05fef5343792\">\n",
              "    <div class=\"colab-df-container\">\n",
              "      <div>\n",
              "<style scoped>\n",
              "    .dataframe tbody tr th:only-of-type {\n",
              "        vertical-align: middle;\n",
              "    }\n",
              "\n",
              "    .dataframe tbody tr th {\n",
              "        vertical-align: top;\n",
              "    }\n",
              "\n",
              "    .dataframe thead th {\n",
              "        text-align: right;\n",
              "    }\n",
              "</style>\n",
              "<table border=\"1\" class=\"dataframe\">\n",
              "  <thead>\n",
              "    <tr style=\"text-align: right;\">\n",
              "      <th></th>\n",
              "      <th>a</th>\n",
              "      <th>b</th>\n",
              "    </tr>\n",
              "  </thead>\n",
              "  <tbody>\n",
              "    <tr>\n",
              "      <th>0</th>\n",
              "      <td>6.1101</td>\n",
              "      <td>17.59200</td>\n",
              "    </tr>\n",
              "    <tr>\n",
              "      <th>1</th>\n",
              "      <td>5.5277</td>\n",
              "      <td>9.13020</td>\n",
              "    </tr>\n",
              "    <tr>\n",
              "      <th>2</th>\n",
              "      <td>8.5186</td>\n",
              "      <td>13.66200</td>\n",
              "    </tr>\n",
              "    <tr>\n",
              "      <th>3</th>\n",
              "      <td>7.0032</td>\n",
              "      <td>11.85400</td>\n",
              "    </tr>\n",
              "    <tr>\n",
              "      <th>4</th>\n",
              "      <td>5.8598</td>\n",
              "      <td>6.82330</td>\n",
              "    </tr>\n",
              "    <tr>\n",
              "      <th>...</th>\n",
              "      <td>...</td>\n",
              "      <td>...</td>\n",
              "    </tr>\n",
              "    <tr>\n",
              "      <th>92</th>\n",
              "      <td>5.8707</td>\n",
              "      <td>7.20290</td>\n",
              "    </tr>\n",
              "    <tr>\n",
              "      <th>93</th>\n",
              "      <td>5.3054</td>\n",
              "      <td>1.98690</td>\n",
              "    </tr>\n",
              "    <tr>\n",
              "      <th>94</th>\n",
              "      <td>8.2934</td>\n",
              "      <td>0.14454</td>\n",
              "    </tr>\n",
              "    <tr>\n",
              "      <th>95</th>\n",
              "      <td>13.3940</td>\n",
              "      <td>9.05510</td>\n",
              "    </tr>\n",
              "    <tr>\n",
              "      <th>96</th>\n",
              "      <td>5.4369</td>\n",
              "      <td>0.61705</td>\n",
              "    </tr>\n",
              "  </tbody>\n",
              "</table>\n",
              "<p>97 rows × 2 columns</p>\n",
              "</div>\n",
              "      <button class=\"colab-df-convert\" onclick=\"convertToInteractive('df-0daf1ae0-7c73-44ca-86b1-05fef5343792')\"\n",
              "              title=\"Convert this dataframe to an interactive table.\"\n",
              "              style=\"display:none;\">\n",
              "        \n",
              "  <svg xmlns=\"http://www.w3.org/2000/svg\" height=\"24px\"viewBox=\"0 0 24 24\"\n",
              "       width=\"24px\">\n",
              "    <path d=\"M0 0h24v24H0V0z\" fill=\"none\"/>\n",
              "    <path d=\"M18.56 5.44l.94 2.06.94-2.06 2.06-.94-2.06-.94-.94-2.06-.94 2.06-2.06.94zm-11 1L8.5 8.5l.94-2.06 2.06-.94-2.06-.94L8.5 2.5l-.94 2.06-2.06.94zm10 10l.94 2.06.94-2.06 2.06-.94-2.06-.94-.94-2.06-.94 2.06-2.06.94z\"/><path d=\"M17.41 7.96l-1.37-1.37c-.4-.4-.92-.59-1.43-.59-.52 0-1.04.2-1.43.59L10.3 9.45l-7.72 7.72c-.78.78-.78 2.05 0 2.83L4 21.41c.39.39.9.59 1.41.59.51 0 1.02-.2 1.41-.59l7.78-7.78 2.81-2.81c.8-.78.8-2.07 0-2.86zM5.41 20L4 18.59l7.72-7.72 1.47 1.35L5.41 20z\"/>\n",
              "  </svg>\n",
              "      </button>\n",
              "      \n",
              "  <style>\n",
              "    .colab-df-container {\n",
              "      display:flex;\n",
              "      flex-wrap:wrap;\n",
              "      gap: 12px;\n",
              "    }\n",
              "\n",
              "    .colab-df-convert {\n",
              "      background-color: #E8F0FE;\n",
              "      border: none;\n",
              "      border-radius: 50%;\n",
              "      cursor: pointer;\n",
              "      display: none;\n",
              "      fill: #1967D2;\n",
              "      height: 32px;\n",
              "      padding: 0 0 0 0;\n",
              "      width: 32px;\n",
              "    }\n",
              "\n",
              "    .colab-df-convert:hover {\n",
              "      background-color: #E2EBFA;\n",
              "      box-shadow: 0px 1px 2px rgba(60, 64, 67, 0.3), 0px 1px 3px 1px rgba(60, 64, 67, 0.15);\n",
              "      fill: #174EA6;\n",
              "    }\n",
              "\n",
              "    [theme=dark] .colab-df-convert {\n",
              "      background-color: #3B4455;\n",
              "      fill: #D2E3FC;\n",
              "    }\n",
              "\n",
              "    [theme=dark] .colab-df-convert:hover {\n",
              "      background-color: #434B5C;\n",
              "      box-shadow: 0px 1px 3px 1px rgba(0, 0, 0, 0.15);\n",
              "      filter: drop-shadow(0px 1px 2px rgba(0, 0, 0, 0.3));\n",
              "      fill: #FFFFFF;\n",
              "    }\n",
              "  </style>\n",
              "\n",
              "      <script>\n",
              "        const buttonEl =\n",
              "          document.querySelector('#df-0daf1ae0-7c73-44ca-86b1-05fef5343792 button.colab-df-convert');\n",
              "        buttonEl.style.display =\n",
              "          google.colab.kernel.accessAllowed ? 'block' : 'none';\n",
              "\n",
              "        async function convertToInteractive(key) {\n",
              "          const element = document.querySelector('#df-0daf1ae0-7c73-44ca-86b1-05fef5343792');\n",
              "          const dataTable =\n",
              "            await google.colab.kernel.invokeFunction('convertToInteractive',\n",
              "                                                     [key], {});\n",
              "          if (!dataTable) return;\n",
              "\n",
              "          const docLinkHtml = 'Like what you see? Visit the ' +\n",
              "            '<a target=\"_blank\" href=https://colab.research.google.com/notebooks/data_table.ipynb>data table notebook</a>'\n",
              "            + ' to learn more about interactive tables.';\n",
              "          element.innerHTML = '';\n",
              "          dataTable['output_type'] = 'display_data';\n",
              "          await google.colab.output.renderOutput(dataTable, element);\n",
              "          const docLink = document.createElement('div');\n",
              "          docLink.innerHTML = docLinkHtml;\n",
              "          element.appendChild(docLink);\n",
              "        }\n",
              "      </script>\n",
              "    </div>\n",
              "  </div>\n",
              "  "
            ]
          },
          "metadata": {},
          "execution_count": 23
        }
      ]
    },
    {
      "cell_type": "code",
      "execution_count": 24,
      "metadata": {
        "id": "10XJjt5mj2Ys"
      },
      "outputs": [],
      "source": [
        "#compute cost value\n",
        "def computeCost(X,y,theta):\n",
        "  m=len(y) \n",
        "  h=X.dot(theta) \n",
        "  square_err=(h - y)**2\n",
        "  return 1/(2*m) * np.sum(square_err) "
      ]
    },
    {
      "cell_type": "code",
      "source": [
        "#computing cost value\n",
        "data_n=data.values\n",
        "m=data_n[:,0].size\n",
        "X=np.append(np.ones((m, 1)),data_n[:,0].reshape(m, 1),axis=1)\n",
        "y=data_n[:,1].reshape (m,1) \n",
        "theta=np.zeros((2,1))\n",
        "computeCost(X,y,theta) # Call the function"
      ],
      "metadata": {
        "colab": {
          "base_uri": "https://localhost:8080/"
        },
        "id": "xGtAivbbkq50",
        "outputId": "4ca9744b-f929-46e7-be2c-eb2ed65912a0"
      },
      "execution_count": 25,
      "outputs": [
        {
          "output_type": "execute_result",
          "data": {
            "text/plain": [
              "32.072733877455676"
            ]
          },
          "metadata": {},
          "execution_count": 25
        }
      ]
    },
    {
      "cell_type": "code",
      "source": [
        "def gradientDescent (X,y, theta, alpha, num_iters):\n",
        "  m=len (y)\n",
        "  J_history=[]\n",
        "  \n",
        "  for i in range(num_iters):\n",
        "    predictions = X.dot(theta)\n",
        "    error = np.dot(X.transpose(), (predictions -y))\n",
        "    descent=alpha * 1/m * error \n",
        "    theta-=descent\n",
        "    J_history.append(computeCost (X,y, theta))\n",
        "  return theta, J_history"
      ],
      "metadata": {
        "id": "8NQnVvh1kzxU"
      },
      "execution_count": 26,
      "outputs": []
    },
    {
      "cell_type": "code",
      "source": [
        "#h(x) value\n",
        "theta,J_history = gradientDescent (X,y, theta, 0.01,1500)\n",
        "print (\"h(x) =\"+str (round(theta[0,0],2))+\" + \"+str(round(theta[1,0],2))+\"X1\")"
      ],
      "metadata": {
        "colab": {
          "base_uri": "https://localhost:8080/"
        },
        "id": "PSPtWDn7lFu0",
        "outputId": "a90a7d82-d35e-4c86-d7ae-0c4b3081bee6"
      },
      "execution_count": 27,
      "outputs": [
        {
          "output_type": "stream",
          "name": "stdout",
          "text": [
            "h(x) =-3.63 + 1.17X1\n"
          ]
        }
      ]
    },
    {
      "cell_type": "code",
      "source": [
        "plt.plot(J_history)\n",
        "plt.xlabel(\"Iteration\") \n",
        "plt.ylabel(\"$J(\\Theta)$\")\n",
        "plt.title(\"Cost function using Gradient Descent\")"
      ],
      "metadata": {
        "colab": {
          "base_uri": "https://localhost:8080/",
          "height": 490
        },
        "id": "vgJsLEV-lLDd",
        "outputId": "32b3c3b1-8a07-46f4-ecb4-458f2cff63ab"
      },
      "execution_count": 28,
      "outputs": [
        {
          "output_type": "execute_result",
          "data": {
            "text/plain": [
              "Text(0.5, 1.0, 'Cost function using Gradient Descent')"
            ]
          },
          "metadata": {},
          "execution_count": 28
        },
        {
          "output_type": "display_data",
          "data": {
            "text/plain": [
              "<Figure size 640x480 with 1 Axes>"
            ],
            "image/png": "[encoded data removed]"
          },
          "metadata": {}
        }
      ]
    },
    {
      "cell_type": "code",
      "source": [
        "plt.scatter(data['a'],data['b'])\n",
        "x_value=[x for x in range (25)]\n",
        "y_value=[y*theta[1]+theta[0] for y in x_value]\n",
        "plt.plot(x_value,y_value, color=\"r\")\n",
        "plt.xticks(np.arange (5,30,step=5)) \n",
        "plt.yticks(np.arange(-5,30,step=5)) \n",
        "plt.xlabel(\"Population of City (10,000s)\") \n",
        "plt.ylabel(\"Profit ($10,000\") \n",
        "plt.title(\"Profit Prediction\")\n",
        "# Text(0.5, 1.0, 'Profit Prediction')"
      ],
      "metadata": {
        "colab": {
          "base_uri": "https://localhost:8080/",
          "height": 490
        },
        "id": "HQZ6XzS-pZro",
        "outputId": "d2946926-7254-47e7-b459-aadde43275bc"
      },
      "execution_count": 33,
      "outputs": [
        {
          "output_type": "execute_result",
          "data": {
            "text/plain": [
              "Text(0.5, 1.0, 'Profit Prediction')"
            ]
          },
          "metadata": {},
          "execution_count": 33
        },
        {
          "output_type": "display_data",
          "data": {
            "text/plain": [
              "<Figure size 640x480 with 1 Axes>"
            ],
            "image/png": "[encoded data removed]"
          },
          "metadata": {}
        }
      ]
    },
    {
      "cell_type": "code",
      "source": [
        "def predict (x,theta):\n",
        "# 11 11 11\n",
        "# Takes in numpy array of x and theta and return the predicted value of y based on theta\n",
        "  predictions= np.dot (theta.transpose (),x)\n",
        "  return predictions[0]"
      ],
      "metadata": {
        "id": "-w64N-o0sQFQ"
      },
      "execution_count": 34,
      "outputs": []
    },
    {
      "cell_type": "code",
      "source": [
        "predict1=predict(np.array([1,3.5]),theta)*10000\n",
        "print(\"For population = 35,000, we predict a profit of $\"+str(round(predict1,0)))"
      ],
      "metadata": {
        "colab": {
          "base_uri": "https://localhost:8080/"
        },
        "id": "nSM6P1_TsVY6",
        "outputId": "9d32746a-305a-4164-a11d-7057746da62d"
      },
      "execution_count": 35,
      "outputs": [
        {
          "output_type": "stream",
          "name": "stdout",
          "text": [
            "For population = 35,000, we predict a profit of $4520.0\n"
          ]
        }
      ]
    },
    {
      "cell_type": "code",
      "source": [
        "predict2=predict(np.array ([1,7]), theta)*10000\n",
        "print(\"For population = 70,000, we predict a profit of $\"+str(round(predict2,0)))"
      ],
      "metadata": {
        "colab": {
          "base_uri": "https://localhost:8080/"
        },
        "id": "KWibfUoMsbqK",
        "outputId": "afeac9af-0cf3-4204-b13c-4d50791d7a48"
      },
      "execution_count": 36,
      "outputs": [
        {
          "output_type": "stream",
          "name": "stdout",
          "text": [
            "For population = 70,000, we predict a profit of $45342.0\n"
          ]
        }
      ]
    }
  ]
}