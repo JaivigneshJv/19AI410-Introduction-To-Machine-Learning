{
  "nbformat": 4,
  "nbformat_minor": 0,
  "metadata": {
    "colab": {
      "provenance": []
    },
    "kernelspec": {
      "name": "python3",
      "display_name": "Python 3"
    },
    "language_info": {
      "name": "python"
    }
  },
  "cells": [
    {
      "cell_type": "code",
      "execution_count": null,
      "metadata": {
        "id": "aINzuf75PFtf"
      },
      "outputs": [],
      "source": [
        "import numpy as np\n",
        "import matplotlib.pyplot as plt"
      ]
    },
    {
      "cell_type": "code",
      "source": [
        "#Input array - X and Y\n",
        "x=np.array(eval(input()))"
      ],
      "metadata": {
        "colab": {
          "base_uri": "https://localhost:8080/"
        },
        "id": "nhJivdtLQrHO",
        "outputId": "be112a21-9c2e-4212-dc4d-d240c96b227a"
      },
      "execution_count": null,
      "outputs": [
        {
          "name": "stdout",
          "output_type": "stream",
          "text": [
            "[8,2,11,6,5,4,12,9,6,1]\n"
          ]
        }
      ]
    },
    {
      "cell_type": "code",
      "source": [
        "y=np.array(eval(input()))"
      ],
      "metadata": {
        "colab": {
          "base_uri": "https://localhost:8080/"
        },
        "id": "6ZheUJ8QRcYb",
        "outputId": "06b7f4d4-b37e-490a-e614-702f694f4b72"
      },
      "execution_count": null,
      "outputs": [
        {
          "name": "stdout",
          "output_type": "stream",
          "text": [
            "[3,10,3,6,8,12,1,4,9,14]\n"
          ]
        }
      ]
    },
    {
      "cell_type": "code",
      "source": [
        "#Mean Extraction\n",
        "x_mean=np.mean(x)\n",
        "y_mean=np.mean(y)"
      ],
      "metadata": {
        "id": "VShsR1DpQtay"
      },
      "execution_count": null,
      "outputs": []
    },
    {
      "cell_type": "code",
      "source": [
        "#formula Implementation\n",
        "num, denom = 0, 0\n",
        "\n",
        "for i in range(len(x)):\n",
        "  num += ((x[i] - x_mean) * (y[i] - y_mean))\n",
        "  denom += (x[i] - x_mean)**2\n",
        "\n",
        "m = num/denom\n",
        "b = y_mean - m * x_mean\n",
        "\n",
        "print(m, b)\n"
      ],
      "metadata": {
        "colab": {
          "base_uri": "https://localhost:8080/"
        },
        "id": "3lQvJJtbRn5E",
        "outputId": "0460e49e-b6c2-4bd6-aa82-ebbe532d10c5"
      },
      "execution_count": null,
      "outputs": [
        {
          "output_type": "stream",
          "name": "stdout",
          "text": [
            "-1.1064189189189189 14.08108108108108\n"
          ]
        }
      ]
    },
    {
      "cell_type": "code",
      "source": [
        "y_predicted=m*x+b\n",
        "y_predicted"
      ],
      "metadata": {
        "colab": {
          "base_uri": "https://localhost:8080/"
        },
        "id": "YVeJHyh8UvVY",
        "outputId": "e567c580-9496-4520-84f3-aaadee787aa8"
      },
      "execution_count": null,
      "outputs": [
        {
          "output_type": "execute_result",
          "data": {
            "text/plain": [
              "array([ 5.22972973, 11.86824324,  1.91047297,  7.44256757,  8.54898649,\n",
              "        9.65540541,  0.80405405,  4.12331081,  7.44256757, 12.97466216])"
            ]
          },
          "metadata": {},
          "execution_count": 72
        }
      ]
    },
    {
      "cell_type": "code",
      "source": [
        "plt.scatter(x,y,color='black')\n",
        "plt.plot(x, y_predicted,color='black')\n",
        "plt.show()"
      ],
      "metadata": {
        "colab": {
          "base_uri": "https://localhost:8080/",
          "height": 265
        },
        "id": "zhvslo8AVDRh",
        "outputId": "4c0cc9a2-9a25-41f7-a123-51e550aa474f"
      },
      "execution_count": null,
      "outputs": [
        {
          "output_type": "display_data",
          "data": {
            "text/plain": [
              "<Figure size 432x288 with 1 Axes>"
            ],
            "image/png": "[encoded data removed]"
          },
          "metadata": {
            "needs_background": "light"
          }
        }
      ]
    },
    {
      "cell_type": "code",
      "source": [
        "print(m*3+b)"
      ],
      "metadata": {
        "colab": {
          "base_uri": "https://localhost:8080/"
        },
        "id": "DdbVWQfWWfL3",
        "outputId": "0787fff3-9c08-477e-d3b4-11b4f2ced163"
      },
      "execution_count": null,
      "outputs": [
        {
          "output_type": "stream",
          "name": "stdout",
          "text": [
            "10.761824324324325\n"
          ]
        }
      ]
    }
  ]
}